{
 "cells": [
  {
   "cell_type": "markdown",
   "metadata": {},
   "source": [
    "# Lecture 4"
   ]
  },
  {
   "cell_type": "markdown",
   "metadata": {},
   "source": [
    "## Lecture learning goals\n",
    "\n",
    "By the end of the lecture you will be able to:\n",
    "\n",
    "1. Visualize distributions.\n",
    "1. Understand how different distribution plots are made and their pros and cons.\n",
    "1. Select an appropriate distribution plot for the situation.\n",
    "1. Grasp EDA on a conceptual levels both for numerical and categorical variables.\n",
    "1. Create density plots to compare a few distributions.\n",
    "1. Create boxplots and violin plot to compare many distributions.\n",
    "1. Use repeated plot grids to investigate multiple data frame columns in the same plot.\n",
    "1. Visualize correlations and counts of categorical variables."
   ]
  },
  {
   "cell_type": "markdown",
   "metadata": {},
   "source": [
    "## Readings\n",
    "\n",
    "- Chapter 7 and 9 of [Fundamentals of Data Visualization](https://clauswilke.com/dataviz/histograms-density-plots.html). No other notes will be posted, since we didn't include any code of our own and these sections are very close to what I would want to write myself so use this reference and the videos when studying.\n",
    "- [Interactive flow chart](https://www.data-to-viz.com/) for which visualization to choose. Not really anything to read, but go there to look around and bookmark it to use as a reference when needed throughout this course and others.\n",
    "- [Section 6 of Fundamentals of Data visualization](https://clauswilke.com/dataviz/visualizing-amounts.html)."
   ]
  },
  {
   "cell_type": "markdown",
   "metadata": {},
   "source": [
    "## Visualizing distributions fairly"
   ]
  },
  {
   "cell_type": "markdown",
   "metadata": {},
   "source": [
    "### Barplots\n",
    "\n",
    "Barplots hide details of distributions by showing only 1 values (or 3 with error bars).\n",
    "Below is an example of this from a [scientific article on how to present data accurately](https://journals.plos.org/plosbiology/article?id=10.1371/journal.pbio.1002128).\n",
    "You can see that the bars could hide widely different data distributions,\n",
    "which would lead to different interpretations of he experiment\n",
    "both visually from looking at the points\n",
    "and by examining formal statistical comparisons\n",
    "(the table below the figure,\n",
    "you don't need to know exactly what these are\n",
    "just note how different they are from different distributions).\n",
    "\n",
    "![image.png](img/barplot-hiding-points.png)"
   ]
  },
  {
   "cell_type": "markdown",
   "metadata": {},
   "source": [
    "### Boxplots\n",
    "\n",
    "Boxplots are better (5-9 values) but can also hide important information.\n",
    "I have included a couple of examples showing how different plot types change when the data changes.\n",
    "This is from [Autodesk Research](https://www.autodesk.com/research/publications/same-stats-different-graphs)\n",
    "who also made the animation of the datasaurus we saw in lecture 1.\n",
    "\n",
    "![](img/hist-point-box.gif)\n",
    "\n",
    "![](img/point-box-violin.gif)"
   ]
  },
  {
   "cell_type": "markdown",
   "metadata": {},
   "source": [
    "### Kernel density estimates\n",
    "\n",
    "The animation below shows how a KDE is constructed\n",
    "from first adding individual kernels (curves) centered on each data point and then summing them together\n",
    "(created from [this YouTube video](https://youtu.be/DCgPRaIDYXAvideo)):\n",
    "\n",
    "![](img/kde-buildup.gif)\n",
    "\n",
    "[Scikit learn's documenation on KDEs is great](https://scikit-learn.org/stable/modules/density.html#density-estimation) and includes images comparing with histograms and also visualizing the different kernels that could be used.\n",
    "\n",
    "![image.png](img/distributions.png)\n",
    "\n",
    "![image.png](img/kernels.png)"
   ]
  },
  {
   "cell_type": "markdown",
   "metadata": {},
   "source": [
    "## Distribution plots\n",
    "\n",
    "We will use a movie data set similar to from lab 2."
   ]
  },
  {
   "cell_type": "code",
   "execution_count": 1,
   "metadata": {},
   "outputs": [
    {
     "ename": "NameError",
     "evalue": "name 'pd' is not defined",
     "output_type": "error",
     "traceback": [
      "\u001b[0;31m---------------------------------------------------------------------------\u001b[0m",
      "\u001b[0;31mNameError\u001b[0m                                 Traceback (most recent call last)",
      "\u001b[0;32m<ipython-input-1-48d0f8375fca>\u001b[0m in \u001b[0;36m<module>\u001b[0;34m\u001b[0m\n\u001b[0;32m----> 1\u001b[0;31m \u001b[0mmovies\u001b[0m \u001b[0;34m=\u001b[0m \u001b[0mpd\u001b[0m\u001b[0;34m.\u001b[0m\u001b[0mread_json\u001b[0m\u001b[0;34m(\u001b[0m\u001b[0;34m'data/lec2-movies.json'\u001b[0m\u001b[0;34m)\u001b[0m\u001b[0;34m\u001b[0m\u001b[0;34m\u001b[0m\u001b[0m\n\u001b[0m\u001b[1;32m      2\u001b[0m \u001b[0mmovies\u001b[0m\u001b[0;34m\u001b[0m\u001b[0;34m\u001b[0m\u001b[0m\n",
      "\u001b[0;31mNameError\u001b[0m: name 'pd' is not defined"
     ]
    }
   ],
   "source": [
    "movies = pd.read_json('data/lec2-movies.json')\n",
    "movies"
   ]
  },
  {
   "cell_type": "markdown",
   "metadata": {},
   "source": [
    "Let's recall how to make a histogram,\n",
    "using the runtime of the movies."
   ]
  },
  {
   "cell_type": "code",
   "execution_count": null,
   "metadata": {},
   "outputs": [],
   "source": [
    "(alt.Chart(movies).mark_bar().encode(\n",
    "    alt.X('runtime', bin=alt.Bin(maxbins=30)),\n",
    "    y='count()'))"
   ]
  },
  {
   "attachments": {
    "ac51a16d-f948-4ace-a534-5690bc225ffa.png": {
     "image/png": "[encoded data removed]"
    }
   },
   "cell_type": "markdown",
   "metadata": {},
   "source": [
    "What if we want to facet the histogram by country?\n",
    "Since the `'country'` column consists of lists with one or more labels,\n",
    "we need to unpack these list so that we have one country in each row.\n",
    "This means that movies that have multiple production countries, \n",
    "will be duplicated in the dataframe and counted once per country.\n",
    "In this case,\n",
    "this is the most sensible thing to do,\n",
    "but in general it is good to be careful when doing an operation like this\n",
    "since it could lead to unwanted replicates\n",
    "(and we would not want to have duplicated rows \n",
    "if we are not faceting or coloring by that variable).\n",
    "\n",
    "Unpacking a list is done via the [`explode` method of pandas dataframes](https://pandas.pydata.org/pandas-docs/stable/reference/api/pandas.DataFrame.explode.html)\n",
    "and there is a illustrative example in the documentation to help understand the outcome of this operation:\n",
    "\n",
    "![image.png](attachment:ac51a16d-f948-4ace-a534-5690bc225ffa.png)"
   ]
  },
  {
   "cell_type": "code",
   "execution_count": null,
   "metadata": {},
   "outputs": [],
   "source": [
    "boom_countries = movies.explode('countries')\n",
    "(alt.Chart(boom_countries).mark_bar().encode(\n",
    "    alt.X('runtime', bin=alt.Bin(maxbins=30)),\n",
    "    y='count()')\n",
    " .facet('countries'))"
   ]
  },
  {
   "cell_type": "markdown",
   "metadata": {},
   "source": [
    "By default when faceting,\n",
    "the y-axis is the same for all plots so that they are easy to compare,\n",
    "but we could also make it independent for each plot."
   ]
  },
  {
   "cell_type": "code",
   "execution_count": null,
   "metadata": {},
   "outputs": [],
   "source": [
    "(alt.Chart(boom_countries).mark_bar().encode(\n",
    "    alt.X('runtime', bin=alt.Bin(maxbins=30)),\n",
    "    y='count()')\n",
    " .facet('countries')\n",
    " .resolve_scale(y='independent'))"
   ]
  },
  {
   "cell_type": "markdown",
   "metadata": {},
   "source": [
    "If we want to color our faceted plots by the movie genre,\n",
    "we need to explode also the `'genres'` column in the df."
   ]
  },
  {
   "cell_type": "code",
   "execution_count": null,
   "metadata": {},
   "outputs": [],
   "source": [
    "boom_both = boom_countries.explode('genres')\n",
    "(alt.Chart(boom_both).mark_bar().encode(\n",
    "    alt.X('runtime', bin=alt.Bin(maxbins=30)),\n",
    "    y='count()',\n",
    "    color='genres')\n",
    " .facet('countries'))"
   ]
  },
  {
   "cell_type": "markdown",
   "metadata": {},
   "source": [
    "We can get a rough indication of the genre differences from this plot,\n",
    "but as we have mention previously,\n",
    "it is not ideal to be looking at bars with different baselines.\n",
    "Instead we could draw a line for the histograms,\n",
    "since this will not stack on top of each other,\n",
    "but start from the same point of the y-axis."
   ]
  },
  {
   "cell_type": "code",
   "execution_count": null,
   "metadata": {},
   "outputs": [],
   "source": [
    "(alt.Chart(boom_both).mark_line().encode(\n",
    "    alt.X('runtime', bin=alt.Bin(maxbins=30)),\n",
    "    y='count()',\n",
    "    color='genres')\n",
    " .facet('countries'))"
   ]
  },
  {
   "cell_type": "markdown",
   "metadata": {},
   "source": [
    "To make the lines appearance more histogram-like,\n",
    "we could change the interpolation method.\n",
    "This refers to how the line behaves between two data points\n",
    "and the default is to draw a diagonal line between data points\n",
    "(euclidean distance/linear interpolation).\n",
    "If we instead use step-wise interpolation ([taxicab geometry/manhattan distance](https://en.wikipedia.org/wiki/Taxicab_geometry)),\n",
    "it looks more like a histogram.\n",
    "But please note that I am only showing this for demonstration purposes,\n",
    "this does not quite behave as a histogram and should not be used as such\n",
    "as per [this GitHub comment from the Altair author](https://github.com/altair-viz/altair/issues/1701#issuecomment-534398358) (until this issue is fixed)."
   ]
  },
  {
   "cell_type": "code",
   "execution_count": null,
   "metadata": {},
   "outputs": [],
   "source": [
    "(alt.Chart(boom_both).mark_line(interpolate='step').encode(\n",
    "    alt.X('runtime', bin=alt.Bin(maxbins=30)),\n",
    "    y='count()',\n",
    "    color='genres')\n",
    " .facet('countries'))"
   ]
  },
  {
   "cell_type": "markdown",
   "metadata": {},
   "source": [
    "We could also prefer a [monotone cubic interpolation](https://en.wikipedia.org/wiki/Monotone_cubic_interpolation),\n",
    "which essentially entails rounding the corners\n",
    "while preserving the one-directional (monotone) properties of a linear interpolation\n",
    "(i.e. make sure the line does not wiggle up and down between data points,\n",
    "but proceed gradually from one to the next)."
   ]
  },
  {
   "cell_type": "code",
   "execution_count": null,
   "metadata": {},
   "outputs": [],
   "source": [
    "(alt.Chart(boom_both).mark_line(interpolate='monotone').encode(\n",
    "    alt.X('runtime', bin=alt.Bin(maxbins=30)),\n",
    "    y='count()',\n",
    "    color='genres')\n",
    " .facet('countries'))"
   ]
  },
  {
   "cell_type": "markdown",
   "metadata": {},
   "source": [
    "While this looks similar to a kernel density estimate (KDE),\n",
    "it is not the same thing and should not be used as such\n",
    "(but it is useful for changing the appearance of line plots in general).\n",
    "\n",
    "To visualize a KDE,\n",
    "we need to do two things:\n",
    "\n",
    "1. Calculate the KDE (adding the individual Gaussian kernels and summing them together)\n",
    "2. Plot a line or area mark for the newly calculated KDE values.\n",
    "\n",
    "In Altair,\n",
    "these operations are done in two explicit steps,\n",
    "whereas ggplot has a `geom_` that does both in the same step."
   ]
  },
  {
   "cell_type": "code",
   "execution_count": null,
   "metadata": {},
   "outputs": [],
   "source": [
    "(alt.Chart(movies)\n",
    " .transform_density(\n",
    "    'runtime',\n",
    "    as_=['runtime', 'density'])  # Give a name to the KDE values, which we can use when plotting\n",
    " .mark_area(interpolate='monotone').encode(\n",
    "    x='runtime',\n",
    "    y='density:Q'))"
   ]
  },
  {
   "cell_type": "markdown",
   "metadata": {},
   "source": [
    "In the above,\n",
    "we need to use `':Q'` to indicate that the density is numeric \n",
    "since it is not part of the dataframe,\n",
    "so Altair cannot use the pandas data types to figure out that it is numeric.\n",
    "\n",
    "If we want to color by a categorical variable,\n",
    "we need to add an explicit `groupby` \n",
    "when calculating the density also,\n",
    "so that there is one density calculation\n",
    "per color variable (`genres` in this case)."
   ]
  },
  {
   "cell_type": "code",
   "execution_count": null,
   "metadata": {},
   "outputs": [],
   "source": [
    "boom_genres = movies.explode('genres')\n",
    "(alt.Chart(boom_genres)\n",
    " .transform_density(\n",
    "     'runtime',\n",
    "     groupby=['genres'],\n",
    "     as_=['runtime', 'density'])\n",
    " .mark_area(interpolate='monotone').encode(\n",
    "     x='runtime',\n",
    "     y='density:Q',\n",
    "     color='genres'))"
   ]
  },
  {
   "cell_type": "markdown",
   "metadata": {},
   "source": [
    "To make the curves smoother,\n",
    "we could use the monotone interpolation mentioned above,\n",
    "but a more proper way of doing this is to increase the resolution\n",
    "over which the KDE is calculated\n",
    "by setting the steps size to a higher number."
   ]
  },
  {
   "cell_type": "code",
   "execution_count": null,
   "metadata": {},
   "outputs": [],
   "source": [
    "(alt.Chart(boom_genres)\n",
    " .transform_density(\n",
    "     'runtime',\n",
    "     groupby=['genres'],\n",
    "     as_=['runtime', 'density'],\n",
    "     steps=200)\n",
    " .mark_area().encode(\n",
    "     x='runtime',\n",
    "     y='density:Q',\n",
    "     color='genres'))"
   ]
  },
  {
   "cell_type": "markdown",
   "metadata": {},
   "source": [
    "Lastly, we could make the histograms slightly transparent so that it is easier to see the overlap."
   ]
  },
  {
   "cell_type": "code",
   "execution_count": null,
   "metadata": {},
   "outputs": [],
   "source": [
    "(alt.Chart(boom_genres)\n",
    " .transform_density(\n",
    "     'runtime',\n",
    "     groupby=['genres'],\n",
    "     as_=['runtime', 'density'],\n",
    "     steps=200)\n",
    " .mark_area(opacity=0.4).encode(\n",
    "     x='runtime',\n",
    "     y='density:Q',\n",
    "     color='genres'))"
   ]
  },
  {
   "cell_type": "markdown",
   "metadata": {},
   "source": [
    "If we face these,\n",
    "you will notice that they look quite different from the faceted histograms.\n",
    "This is because the density rather than the count is shown by default on the y-axis.\n",
    "Showing the density means that we can see how the area adds up to one,\n",
    "but is not really a useful numbers for us to know."
   ]
  },
  {
   "cell_type": "code",
   "execution_count": null,
   "metadata": {},
   "outputs": [],
   "source": [
    "(alt.Chart(boom_both)\n",
    " .transform_density(\n",
    "     'runtime',\n",
    "     groupby=['genres', 'countries'],\n",
    "     as_=['runtime', 'density'])\n",
    " .mark_area(interpolate='monotone').encode(\n",
    "     x='runtime',\n",
    "     y='density:Q',\n",
    "     color='genres')\n",
    " .facet('countries'))"
   ]
  },
  {
   "cell_type": "markdown",
   "metadata": {},
   "source": [
    "We could instead scale it by the count,\n",
    "but again this is not that useful,\n",
    "as it is not as clear how to interpret this,\n",
    "compared to a histogram with discrete bins and a count in each bin."
   ]
  },
  {
   "cell_type": "code",
   "execution_count": null,
   "metadata": {},
   "outputs": [],
   "source": [
    "(alt.Chart(boom_both)\n",
    " .transform_density(\n",
    "     'runtime',\n",
    "     groupby=['genres', 'countries'],\n",
    "     as_=['runtime', 'density'],\n",
    "     counts=True)\n",
    " .mark_area(interpolate='monotone').encode(\n",
    "     x='runtime',\n",
    "     y='density:Q',\n",
    "     color='genres')\n",
    " .facet('countries'))"
   ]
  },
  {
   "cell_type": "markdown",
   "metadata": {},
   "source": [
    "So in summary for densities,\n",
    "the important is the shape to see how the values are distributed,\n",
    "and possibly the size if you scale them,\n",
    "but just as a relative indicator versus other densities\n",
    "rather than relying too much on the exact values on the y-axis.\n",
    "\n",
    "Here,\n",
    "we could also use `row` and `columns` parameters to faceting\n",
    "in order to separate the categorical variables further.\n",
    "This is especially useful if we would have had a third categorical column,\n",
    "so I made a true/false column for whether the movie had a high rating or not.\n",
    "You will see that the the densities don't work that well with this split,\n",
    "but other marks would."
   ]
  },
  {
   "cell_type": "code",
   "execution_count": null,
   "metadata": {},
   "outputs": [],
   "source": [
    "boom_both['vote_avg_over_4'] = boom_both['vote_average'] > 3\n",
    "(alt.Chart(boom_both)\n",
    " .transform_density(\n",
    "     'runtime',\n",
    "     groupby=['genres', 'countries', 'vote_avg_over_4'],\n",
    "     as_=['runtime', 'density'],\n",
    "     counts=True)\n",
    " .mark_line().encode(\n",
    "     x='runtime',\n",
    "     y='density:Q',\n",
    "     color='genres')\n",
    " .properties(height=100)\n",
    " .facet(column='countries', row='vote_avg_over_4')\n",
    " .resolve_scale(y='independent'))"
   ]
  },
  {
   "cell_type": "markdown",
   "metadata": {},
   "source": [
    "### In ggplot"
   ]
  },
  {
   "cell_type": "code",
   "execution_count": null,
   "metadata": {},
   "outputs": [],
   "source": [
    "%%R\n",
    "library(rjson)\n",
    "library(tidyverse)\n",
    "movies <- fromJSON(file = 'data/lec2-movies.json') %>%\n",
    "    as_tibble() %>%\n",
    "    unnest(-c(countries, genres))\n",
    "    \n",
    "head(movies)"
   ]
  },
  {
   "cell_type": "markdown",
   "metadata": {},
   "source": [
    "Let's recall how to make a histogram."
   ]
  },
  {
   "cell_type": "code",
   "execution_count": null,
   "metadata": {},
   "outputs": [],
   "source": [
    "%%R -w 500 -h 350\n",
    "ggplot(movies) +\n",
    "    aes(x = runtime) +\n",
    "    geom_histogram(color = 'white')"
   ]
  },
  {
   "cell_type": "markdown",
   "metadata": {},
   "source": [
    "In ggplot,\n",
    "there is a specific `geom` for densities\n",
    "which does both the KDE calculation and plots a line."
   ]
  },
  {
   "cell_type": "code",
   "execution_count": null,
   "metadata": {},
   "outputs": [],
   "source": [
    "%%R -w 500 -h 350\n",
    "ggplot(movies) +\n",
    "    aes(x = runtime) +\n",
    "    geom_density()"
   ]
  },
  {
   "cell_type": "markdown",
   "metadata": {},
   "source": [
    "We can still control the parameters of the KDE calculation like in Altair,\n",
    "for example the bandwidth,\n",
    "how wide each kernel is\n",
    "(similar to histogram bin width)."
   ]
  },
  {
   "cell_type": "code",
   "execution_count": null,
   "metadata": {},
   "outputs": [],
   "source": [
    "%%R -w 500 -h 350\n",
    "ggplot(movies) +\n",
    "    aes(x = runtime) +\n",
    "    geom_density(bw=1)"
   ]
  },
  {
   "cell_type": "code",
   "execution_count": null,
   "metadata": {},
   "outputs": [],
   "source": [
    "%%R -w 500 -h 350\n",
    "ggplot(movies) +\n",
    "    aes(x = runtime) +\n",
    "    geom_density(bw=100)"
   ]
  },
  {
   "cell_type": "markdown",
   "metadata": {},
   "source": [
    "Filling the density can make it look a bit nicer."
   ]
  },
  {
   "cell_type": "code",
   "execution_count": null,
   "metadata": {},
   "outputs": [],
   "source": [
    "%%R -w 500 -h 350\n",
    "ggplot(movies) +\n",
    "    aes(x = runtime) +\n",
    "    geom_density(fill = 'grey', alpha = 0.7)"
   ]
  },
  {
   "cell_type": "markdown",
   "metadata": {},
   "source": [
    "To color/fill by a variable,\n",
    "we don't need a separate groupby,\n",
    "but can treat `geom_density` like any other geom,\n",
    "which is convenient.\n",
    "In dplyr,\n",
    "a list can be unpacked via the `unnest` function."
   ]
  },
  {
   "cell_type": "code",
   "execution_count": null,
   "metadata": {},
   "outputs": [],
   "source": [
    "%%R -w 500 -h 350\n",
    "free_genres <- movies %>% unnest(genres)\n",
    "ggplot(free_genres) +\n",
    "    aes(x = runtime,\n",
    "        fill = genres,\n",
    "        color = genres) +\n",
    "    geom_density(alpha = 0.6)"
   ]
  },
  {
   "cell_type": "markdown",
   "metadata": {},
   "source": [
    "We need to unpack both `genres` and `countries`\n",
    "if we want to use aesthetic mappings for both these columns."
   ]
  },
  {
   "cell_type": "code",
   "execution_count": null,
   "metadata": {},
   "outputs": [],
   "source": [
    "%%R -w 700 -h 350\n",
    "free_both <- free_genres %>%\n",
    "    unnest(countries)\n",
    "ggplot(free_both) +\n",
    "    aes(x = runtime,\n",
    "        fill = genres,\n",
    "        color = genres) +\n",
    "    geom_density(alpha = 0.6) +\n",
    "    facet_wrap(~countries)"
   ]
  },
  {
   "cell_type": "markdown",
   "metadata": {},
   "source": [
    "To map the rows and columns of the plot grid to variables in the data set,\n",
    "we can use `facet_grid` instead of `facet_wrap`."
   ]
  },
  {
   "cell_type": "code",
   "execution_count": null,
   "metadata": {},
   "outputs": [],
   "source": [
    "%%R -w 700 -h 350\n",
    "ggplot(free_both) +\n",
    "    aes(x = runtime,\n",
    "        fill = genres,\n",
    "        color = genres) +\n",
    "    geom_density(alpha = 0.6) +\n",
    "    facet_grid(genres ~ countries)"
   ]
  },
  {
   "cell_type": "markdown",
   "metadata": {},
   "source": [
    "## Comparing distributions for multiple categorical variables along the y-axis"
   ]
  },
  {
   "cell_type": "markdown",
   "metadata": {},
   "source": [
    "While it is possible to make [violin plots](https://altair-viz.github.io/gallery/violin_plot.html)\n",
    "and [stripplots](https://altair-viz.github.io/gallery/stripplot.html) (categorical scatter plots) in Altair,\n",
    "these do currently not work with a categorical x/y axies,\n",
    "and you need to use faceting instead to display different categories,\n",
    "which gives us less flexibility.\n",
    "Therefore,\n",
    "we will primarily use boxplots when comparing multiple distributions with Altair."
   ]
  },
  {
   "cell_type": "code",
   "execution_count": null,
   "metadata": {},
   "outputs": [],
   "source": [
    "(alt.Chart(boom_both)\n",
    " .mark_boxplot().encode(\n",
    "     x='runtime',\n",
    "     y='genres',\n",
    "     color='genres')\n",
    " .facet('countries', columns=1))"
   ]
  },
  {
   "cell_type": "markdown",
   "metadata": {},
   "source": [
    "The size of the boxes can be made proportional to the count of observations\n",
    "in that group.\n",
    "We could also have used barplot for this,\n",
    "if we needed a more precise indication of the counts."
   ]
  },
  {
   "cell_type": "code",
   "execution_count": null,
   "metadata": {},
   "outputs": [],
   "source": [
    "(alt.Chart(boom_both)\n",
    " .mark_boxplot().encode(\n",
    "     x='runtime',\n",
    "     y='genres',\n",
    "     color='genres',\n",
    "     size='count()')\n",
    " .facet('countries', columns=1))"
   ]
  },
  {
   "cell_type": "markdown",
   "metadata": {},
   "source": [
    "Since I personally like seeing distributions,\n",
    "I also invented these 8-bit looking violins made out of square marks."
   ]
  },
  {
   "cell_type": "code",
   "execution_count": null,
   "metadata": {},
   "outputs": [],
   "source": [
    "squareolins = (alt.Chart(boom_both)\n",
    " .mark_square().encode(\n",
    "     x='runtime',\n",
    "     y='genres',\n",
    "     color='genres',\n",
    "     size='count()'))\n",
    "squareolins.facet('countries', columns=1)"
   ]
  },
  {
   "cell_type": "markdown",
   "metadata": {},
   "source": [
    "We could add a mean dot.\n",
    "Below I recreate the chart\n",
    "since there is no good way to remove the size and color encodings\n",
    "that we had in the chart above\n",
    "(and we don't want to color or resize the means).\n",
    "I could have done these plots in the opposite order \n",
    "and avoided having to code the entire chart twice,\n",
    "just changing the mark and the necessary encoding."
   ]
  },
  {
   "cell_type": "code",
   "execution_count": null,
   "metadata": {},
   "outputs": [],
   "source": [
    "means = (\n",
    "    alt.Chart(boom_both)\n",
    "    .mark_circle(color='white').encode(\n",
    "        x='mean(runtime)',\n",
    "        y='genres'))\n",
    "(squareolins + means).facet('countries', columns=1)"
   ]
  },
  {
   "cell_type": "markdown",
   "metadata": {},
   "source": [
    "This is one thing I appreciate with Altair \n",
    "(and graphical grammars in general):\n",
    "understanding how to compose plots from individual elements,\n",
    "allows you some creativity in what you make\n",
    "versus using a pre-made plot via a set name (stripplot, violinplot, etc).\n",
    "You should of course be very careful with this \n",
    "because the common plots exist for good reason,\n",
    "they are statistically robust in many cases,\n",
    "and common enough that they are easier for people to interpret\n",
    "than your own creations in many cases."
   ]
  },
  {
   "cell_type": "markdown",
   "metadata": {},
   "source": [
    "### In ggplot\n",
    "\n",
    "ggplot has a boxplot geom."
   ]
  },
  {
   "cell_type": "code",
   "execution_count": null,
   "metadata": {},
   "outputs": [],
   "source": [
    "%%R -w 700 -h 350\n",
    "ggplot(free_both) +\n",
    "    aes(x = runtime,\n",
    "        y = genres,\n",
    "        fill = genres) +\n",
    "    geom_boxplot() +\n",
    "    facet_wrap(~countries)"
   ]
  },
  {
   "cell_type": "markdown",
   "metadata": {},
   "source": [
    "Which we can scale by the count of observations."
   ]
  },
  {
   "cell_type": "code",
   "execution_count": null,
   "metadata": {},
   "outputs": [],
   "source": [
    "%%R -w 700 -h 350\n",
    "ggplot(free_both) +\n",
    "    aes(x = runtime,\n",
    "        y = genres,\n",
    "        fill = genres) +\n",
    "    geom_boxplot(varwidth = TRUE) +\n",
    "    facet_wrap(~countries)"
   ]
  },
  {
   "cell_type": "markdown",
   "metadata": {},
   "source": [
    "There is also a geom for creating violin plots\n",
    "which both calculates the density and then plots\n",
    "a line and an area."
   ]
  },
  {
   "cell_type": "code",
   "execution_count": null,
   "metadata": {},
   "outputs": [],
   "source": [
    "%%R -w 700 -h 350\n",
    "ggplot(free_both) +\n",
    "    aes(x = runtime,\n",
    "        y = genres,\n",
    "        fill = genres) +\n",
    "    geom_violin() +\n",
    "    facet_wrap(~countries)"
   ]
  },
  {
   "cell_type": "markdown",
   "metadata": {},
   "source": [
    "These can also be scaled by size."
   ]
  },
  {
   "cell_type": "code",
   "execution_count": null,
   "metadata": {},
   "outputs": [],
   "source": [
    "%%R -w 700 -h 350\n",
    "ggplot(free_both) +\n",
    "    aes(x = runtime,\n",
    "        y = genres,\n",
    "        fill = genres) +\n",
    "    geom_violin(scale = 'count') +\n",
    "    facet_wrap(~countries)"
   ]
  },
  {
   "cell_type": "markdown",
   "metadata": {},
   "source": [
    "We can show the quantiles shown in the box plot also on the violin."
   ]
  },
  {
   "cell_type": "code",
   "execution_count": null,
   "metadata": {},
   "outputs": [],
   "source": [
    "%%R -w 700 -h 350\n",
    "ggplot(free_both) +\n",
    "    aes(x = runtime,\n",
    "        y = genres,\n",
    "        fill = genres) +\n",
    "    geom_violin(draw_quantiles = c(0.25, 0.5, 0.75)) +\n",
    "    facet_wrap(~countries)"
   ]
  },
  {
   "cell_type": "markdown",
   "metadata": {},
   "source": [
    "As we discussed in the previous lecture,\n",
    "it is always a good idea to have a look at \n",
    "where the individual data points are.\n",
    "For this we can use a categorical scatter plot\n",
    "where the dots are spread/jittered randomly on the non-value axis\n",
    "so that they don't all overlap via `geom_jitter`."
   ]
  },
  {
   "cell_type": "code",
   "execution_count": null,
   "metadata": {},
   "outputs": [],
   "source": [
    "%%R -w 700 -h 350\n",
    "ggplot(free_both) +\n",
    "    aes(x = runtime,\n",
    "        y = genres,\n",
    "        fill = genres) +\n",
    "    geom_jitter(height = 0.2, alpha = 0.3) +\n",
    "    geom_violin() +\n",
    "    facet_wrap(~countries)"
   ]
  },
  {
   "cell_type": "markdown",
   "metadata": {},
   "source": [
    "ggplot understand that if you color by a variable,\n",
    "it should create separate violins for each group on the same location\n",
    "of the categorical axis.\n",
    "In Altair,\n",
    "this would be a bit more cumbersome since we would need to use different facets."
   ]
  },
  {
   "cell_type": "code",
   "execution_count": null,
   "metadata": {},
   "outputs": [],
   "source": [
    "%%R -w 500 -h 350\n",
    "ggplot(free_both) +\n",
    "    aes(x = runtime,\n",
    "        y = genres,\n",
    "        fill = countries) +\n",
    "    geom_violin(draw_quantiles = c(0.25, 0.5, 0.75))"
   ]
  },
  {
   "cell_type": "markdown",
   "metadata": {},
   "source": [
    "You could also [use density lines in so called ridgeline plots to compare many distributions](https://www.r-graph-gallery.com/294-basic-ridgeline-plot.html)."
   ]
  },
  {
   "cell_type": "markdown",
   "metadata": {},
   "source": [
    "## Repeating plots for different columns"
   ]
  },
  {
   "cell_type": "markdown",
   "metadata": {},
   "source": [
    "### Repeating columns on a single axis\n",
    "\n",
    "Previously we have made subplots via faceting,\n",
    "which creates one subplot per unique value in a categorical column\n",
    "and displays the same numerical columns in all the subplots/facets.\n",
    "This view of multiple subsets in the data\n",
    "is often called a trellis plot or plot of small multiples.\n",
    "Here,\n",
    "we will see how we can create subplots that each display all the data points,\n",
    "but is repeated for different columns in the data.\n",
    "\n",
    "We specify which columns we want to use via the `.repeat` method,\n",
    "and where we want to use them via `alt.repeat`.\n",
    "For this plot,\n",
    "we keep the y-axis constant,\n",
    "and repeat the plot for different x-axis columns."
   ]
  },
  {
   "cell_type": "code",
   "execution_count": null,
   "metadata": {},
   "outputs": [],
   "source": [
    "(alt.Chart(boom_both)\n",
    " .mark_boxplot().encode(\n",
    "     alt.X(alt.repeat(), type='quantitative'),\n",
    "     y='genres',\n",
    "     color='genres',\n",
    "     size='count()')\n",
    " .repeat(['runtime', 'revenue']))"
   ]
  },
  {
   "cell_type": "markdown",
   "metadata": {},
   "source": [
    "This is very powerful for quick data exploration,\n",
    "and uses a consistent grammar \n",
    "which gives you lots of flexibility for customization\n",
    "instead of having a specific function that made only this type of plot\n",
    "(which is common elsewhere).\n",
    "\n",
    "You can even combine facet and repeat but note that this does not work with all marks yet,\n",
    "although for boxplots it is fine. "
   ]
  },
  {
   "cell_type": "code",
   "execution_count": null,
   "metadata": {},
   "outputs": [],
   "source": [
    "(alt.Chart(boom_both).mark_boxplot().encode(\n",
    "    alt.X(alt.repeat(), type='quantitative', scale=alt.Scale(zero=False)),\n",
    "    alt.Y('genres', title=''), # Removing labels to make the chart less busy\n",
    "    color='genres')\n",
    " .properties(height=100, width=250)\n",
    " .facet(row='countries')\n",
    " .repeat(repeat=['runtime', 'revenue']))"
   ]
  },
  {
   "cell_type": "markdown",
   "metadata": {},
   "source": [
    "## Repeating columns on both axes\n",
    "\n",
    "To efficiently repeat over both the axis,\n",
    "we can use the `column` and `row` parameter to `repeat`.\n",
    "These work similarly as they do for `facet`,\n",
    "distributing the list of data frame variables \n",
    "over only one axis,\n",
    "which we specify with `alt.repeat` to the x and y axis."
   ]
  },
  {
   "cell_type": "code",
   "execution_count": null,
   "metadata": {},
   "outputs": [],
   "source": [
    "(alt.Chart(boom_both)\n",
    " .mark_boxplot().encode(\n",
    "     alt.X(alt.repeat('row'), type='quantitative'),\n",
    "     alt.Y(alt.repeat('column'), type='nominal', title=''),\n",
    "     alt.Color(alt.repeat('column'), type='nominal', title='Genre or Country'))\n",
    " .properties(height=100, width=250)\n",
    " .repeat(column=['genres', 'countries'], row=['runtime', 'revenue']))"
   ]
  },
  {
   "cell_type": "markdown",
   "metadata": {},
   "source": [
    "When we don't give any named parameters to `repeat` and `alt.repeat`,\n",
    "they use the default,\n",
    "which is `repeat` and then you wrap with `columns=2` if you want more than one row\n",
    "as we did above.\n",
    "\n",
    "We could also use this technique to create a what is usually called a scatter plot matrix (or pairplot),\n",
    "where we repeat numerical columns on both axes to investigate their pairwise relationships."
   ]
  },
  {
   "cell_type": "code",
   "execution_count": null,
   "metadata": {},
   "outputs": [],
   "source": [
    "(alt.Chart(boom_both)\n",
    " .mark_point().encode(\n",
    "     alt.X(alt.repeat('row'), type='quantitative'),\n",
    "     alt.Y(alt.repeat('column'), type='quantitative'))\n",
    " .properties(width=200, height=200)\n",
    " .repeat(column=['runtime', 'revenue'], row=['runtime', 'revenue']))"
   ]
  },
  {
   "cell_type": "markdown",
   "metadata": {},
   "source": [
    "When there are many plots,\n",
    "it can be hard to see,\n",
    "so as long as this is just for our own exploratory analysis,\n",
    "it can be a good idea to hide the labels or make them much smaller\n",
    "(possible toggling back on and off if we need to check an axis range).\n",
    "To avoid saturation (overplotting) we can make the dots smaller\n",
    "and a bit transparent."
   ]
  },
  {
   "cell_type": "code",
   "execution_count": null,
   "metadata": {},
   "outputs": [],
   "source": [
    "(alt.Chart(boom_both)\n",
    " .mark_point(size=2, opacity=0.2).encode(\n",
    "     alt.X(alt.repeat('row'), type='quantitative'),\n",
    "     alt.Y(alt.repeat('column'), type='quantitative'))\n",
    " .properties(width=200, height=200)\n",
    " .repeat(column=['runtime', 'revenue'], row=['runtime', 'revenue'])\n",
    " .configure_axis(labels=False))"
   ]
  },
  {
   "cell_type": "markdown",
   "metadata": {},
   "source": [
    "It is still a bit hard to see exactly where  most of the dots are,\n",
    "so we could create a binned count plot instead for a more accurate representation."
   ]
  },
  {
   "cell_type": "code",
   "execution_count": null,
   "metadata": {},
   "outputs": [],
   "source": [
    "# could also use alt.axis\n",
    "(alt.Chart(boom_both)\n",
    " .mark_rect().encode(\n",
    "     alt.X(alt.repeat('row'), type='quantitative', bin=alt.Bin(maxbins=20)),\n",
    "     alt.Y(alt.repeat('column'), type='quantitative', bin=alt.Bin(maxbins=20)),\n",
    "     alt.Color('count()'))\n",
    " .properties(width=200, height=200)\n",
    " .repeat(column=['runtime', 'revenue'], row=['runtime', 'revenue'])\n",
    " .configure_axis(labels=False))"
   ]
  },
  {
   "cell_type": "markdown",
   "metadata": {},
   "source": [
    "### In ggplot\n",
    "\n",
    "There is not \"repeat\" function in ggplot,\n",
    "so we would first need to pivot all data frame variables\n",
    "into the same column and then use faceting on this new column name."
   ]
  },
  {
   "cell_type": "code",
   "execution_count": null,
   "metadata": {},
   "outputs": [],
   "source": [
    "%%R -w 800 -h 550\n",
    "movies %>%\n",
    "    select_if(is.numeric) %>%\n",
    "    pivot_longer(everything()) %>%\n",
    "    ggplot(aes(x = value)) + \n",
    "        geom_density(fill = 'grey') + \n",
    "        facet_wrap(~name, scales = 'free')"
   ]
  },
  {
   "cell_type": "markdown",
   "metadata": {},
   "source": [
    "This would not work if both axes are numerical,\n",
    "but luckiy there is an extension packagge for ggplot called GGally,\n",
    "which can be used here.\n",
    "It also plots the density curves on the diagonal and the correlations on top."
   ]
  },
  {
   "cell_type": "code",
   "execution_count": null,
   "metadata": {},
   "outputs": [],
   "source": [
    "%%R -w 800 -h 550\n",
    "GGally::ggpairs(movies %>% select_if(is.numeric), progress = FALSE)"
   ]
  },
  {
   "cell_type": "markdown",
   "metadata": {},
   "source": [
    "This function can also show info on categorical variables."
   ]
  },
  {
   "cell_type": "code",
   "execution_count": null,
   "metadata": {},
   "outputs": [],
   "source": [
    "%%R -w 800 -h 550\n",
    "GGally::ggpairs(free_both %>% select(-title), progress=FALSE)"
   ]
  },
  {
   "cell_type": "markdown",
   "metadata": {},
   "source": [
    "And color by another categorical."
   ]
  },
  {
   "cell_type": "code",
   "execution_count": null,
   "metadata": {},
   "outputs": [],
   "source": [
    "%%R -w 800 -h 550\n",
    "GGally::ggpairs(free_both %>% select(-title), aes(color = countries), progress=FALSE)"
   ]
  },
  {
   "cell_type": "markdown",
   "metadata": {},
   "source": [
    "Customizing these plots are possible but  bit cumbersome,\n",
    "[this blog post has some good examples)[https://www.blopig.com/blog/2019/06/a-brief-introduction-to-ggpairs/)."
   ]
  },
  {
   "cell_type": "code",
   "execution_count": null,
   "metadata": {},
   "outputs": [],
   "source": [
    "%%R -w 800 -h 550\n",
    "GGally::ggpairs(\n",
    "    free_both %>% select(-title),\n",
    "    aes(color = countries),\n",
    "    progress = FALSE,\n",
    "    lower = list(continuous = GGally::wrap('points', alpha = 0.3, size=0.1, color = 'steelblue')),\n",
    "    diag = list(continuous = GGally::wrap('densityDiag', fill = 'coral', alpha = 0.4))) "
   ]
  },
  {
   "cell_type": "markdown",
   "metadata": {},
   "source": [
    "## Correlation plots\n",
    "\n",
    "A good complement to a scatter plot matrix is a correlation plot\n",
    "which helps formalize the correlation between numerical variables.\n",
    "Using \"spearman\" correlation instead of \"pearson\" \n",
    "allows us to detect non-linear relationships better."
   ]
  },
  {
   "cell_type": "code",
   "execution_count": null,
   "metadata": {},
   "outputs": [],
   "source": [
    "corr_df = (\n",
    "    movies\n",
    "    .select_dtypes('number')\n",
    "    .corr('spearman')\n",
    "    .abs()                      # Use abs for negative correlation to stand out\n",
    "    .stack()                    # Get df into long format for altair\n",
    "    .reset_index(name='corr'))  # Name the index that is reset to avoid name collision\n",
    "\n",
    "alt.Chart(corr_df).mark_circle().encode(\n",
    "    x='level_0',\n",
    "    y='level_1',\n",
    "    size='corr',\n",
    "    color='corr')"
   ]
  },
  {
   "cell_type": "markdown",
   "metadata": {},
   "source": [
    "With some effort, we can make it look nicer."
   ]
  },
  {
   "cell_type": "code",
   "execution_count": null,
   "metadata": {},
   "outputs": [],
   "source": [
    "corr_df = movies.select_dtypes('number').corr('spearman').stack().reset_index(name='corr')\n",
    "corr_df.loc[corr_df['corr'] == 1, 'corr'] = 0\n",
    "corr_df['abs'] = corr_df['corr'].abs()\n",
    "alt.Chart(corr_df).mark_circle().encode(\n",
    "    x='level_0',\n",
    "    y='level_1',\n",
    "    size='abs',\n",
    "    color=alt.Color('corr', scale=alt.Scale(scheme='blueorange', domain=(-1, 1))))"
   ]
  },
  {
   "cell_type": "markdown",
   "metadata": {},
   "source": [
    "The domain argument sets the extent of the colorscale\n",
    "(from a perfect negative to a perfect positive correlation), \n",
    "we will talk more about colorscale later in the course."
   ]
  },
  {
   "cell_type": "markdown",
   "metadata": {},
   "source": [
    "### In ggplot\n",
    "\n",
    "We could do the separate calculation in ggplot as well,\n",
    "but there is also a special function in GGally,\n",
    "which does the computation and visualizes it as a heatmap."
   ]
  },
  {
   "cell_type": "code",
   "execution_count": null,
   "metadata": {
    "tags": [
     "solution"
    ]
   },
   "outputs": [],
   "source": [
    "%%R -w 600 -h 350\n",
    "GGally::ggcorr(movies)"
   ]
  },
  {
   "cell_type": "markdown",
   "metadata": {},
   "source": [
    "## Counting combinations of categorical groups\n",
    "\n",
    "Counting categoricals is helpful to get and overview of where most observations lie.\n",
    "Often the size and color can be used for this, \n",
    "similar to the correlation plot."
   ]
  },
  {
   "cell_type": "code",
   "execution_count": null,
   "metadata": {},
   "outputs": [],
   "source": [
    "alt.Chart(boom_both).mark_square().encode(\n",
    "    x='genres',\n",
    "    y='countries',\n",
    "    color='count()',\n",
    "    size='count()')"
   ]
  },
  {
   "cell_type": "markdown",
   "metadata": {},
   "source": [
    "Or a heatmap could be created\n",
    "(we could have done this for the correlation plot as well)."
   ]
  },
  {
   "cell_type": "code",
   "execution_count": null,
   "metadata": {},
   "outputs": [],
   "source": [
    "alt.Chart(boom_both).mark_rect().encode(\n",
    "    x='genres',\n",
    "    y='countries',\n",
    "    color='count()')"
   ]
  },
  {
   "cell_type": "markdown",
   "metadata": {},
   "source": [
    "For more precise counts,\n",
    "we could use a faceted bar chart."
   ]
  },
  {
   "cell_type": "code",
   "execution_count": null,
   "metadata": {},
   "outputs": [],
   "source": [
    "alt.Chart(boom_both).mark_bar().encode(\n",
    "    x='count()',\n",
    "    y='genres',\n",
    "    color='genres').facet(row='countries')"
   ]
  },
  {
   "cell_type": "markdown",
   "metadata": {},
   "source": [
    "### In ggplot\n",
    "\n",
    "GGally has a similar plot for counting categories."
   ]
  },
  {
   "cell_type": "code",
   "execution_count": null,
   "metadata": {},
   "outputs": [],
   "source": [
    "%%R -w 600 -h 350\n",
    "GGally::ggally_cross(free_both, aes(x = genres, y = countries))"
   ]
  },
  {
   "cell_type": "markdown",
   "metadata": {},
   "source": [
    "A barplot of counts could be made directly in ggplot."
   ]
  },
  {
   "cell_type": "code",
   "execution_count": null,
   "metadata": {},
   "outputs": [],
   "source": [
    "%%R -w 600 -h 350\n",
    "ggplot(free_both) +\n",
    "    aes(y = countries,\n",
    "        fill = genres) +\n",
    "    geom_bar(stat = 'count', position = 'dodge')"
   ]
  }
 ],
 "metadata": {
  "kernelspec": {
   "display_name": "Python 3",
   "language": "python",
   "name": "python3"
  },
  "language_info": {
   "codemirror_mode": {
    "name": "ipython",
    "version": 3
   },
   "file_extension": ".py",
   "mimetype": "text/x-python",
   "name": "python",
   "nbconvert_exporter": "python",
   "pygments_lexer": "ipython3",
   "version": "3.8.3"
  }
 },
 "nbformat": 4,
 "nbformat_minor": 4
}
